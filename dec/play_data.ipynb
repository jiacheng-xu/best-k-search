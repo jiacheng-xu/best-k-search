{
 "cells": [
  {
   "cell_type": "code",
   "execution_count": 41,
   "metadata": {},
   "outputs": [],
   "source": [
    "from transformers import BartTokenizer,BartTokenizerFast,BartForConditionalGeneration\n",
    "tokenizer = BartTokenizerFast.from_pretrained(\"facebook/bart-large-xsum\")\n",
    "tokfast = BartTokenizerFast.from_pretrained(\"facebook/bart-large-xsum\")\n",
    "model = BartForConditionalGeneration.from_pretrained(\"facebook/bart-large-xsum\")"
   ]
  },
  {
   "cell_type": "code",
   "execution_count": 42,
   "metadata": {},
   "outputs": [
    {
     "name": "stderr",
     "output_type": "stream",
     "text": [
      "Truncation was not explicitly activated but `max_length` is provided a specific value, please use `truncation=True` to explicitly truncate examples to max length. Defaulting to 'longest_first' truncation strategy. If you encode pairs of sequences (GLUE-style) with the tokenizer you can select this strategy more precisely by providing a specific strategy to `truncation`.\n"
     ]
    }
   ],
   "source": [
    "ARTICLE_TO_SUMMARIZE = (\n",
    "    \"PG&E stated it scheduled the blackouts in response to forecasts for high winds \"\n",
    "    \"amid dry conditions. The aim is to reduce the risk of wildfires. Nearly 800 thousand customers were \"\n",
    "    \"scheduled to be affected by the shutoffs which were expected to last through at least midday tomorrow.\"\n",
    ")\n",
    "inputs = tokenizer([ARTICLE_TO_SUMMARIZE], max_length=1024, return_tensors=\"pt\")"
   ]
  },
  {
   "cell_type": "code",
   "execution_count": 43,
   "metadata": {},
   "outputs": [],
   "source": [
    "import torch"
   ]
  },
  {
   "cell_type": "code",
   "execution_count": 44,
   "metadata": {},
   "outputs": [
    {
     "name": "stdout",
     "output_type": "stream",
     "text": [
      "torch.Size([1, 56])\n",
      "torch.Size([1, 9])\n"
     ]
    }
   ],
   "source": [
    "\n",
    "dec_inputs = [[1250, 581, 4871, tokenizer.bos_token_id, 8332, 947, 717, 2305, 24]]\n",
    "dec_mask = torch.tensor([[0.,0.,0.,1.,1.,1.,1.,1., 1. ]])\n",
    "dec_input_tensor  = torch.tensor(dec_inputs)\n",
    "print(inputs['input_ids'].size())\n",
    "print(dec_input_tensor.size())\n",
    "output = model(input_ids=inputs['input_ids'], decoder_input_ids = dec_input_tensor,decoder_attention_mask=dec_mask)\n",
    "logits = output.logits[:, -1, :]"
   ]
  },
  {
   "cell_type": "code",
   "execution_count": 45,
   "metadata": {},
   "outputs": [
    {
     "name": "stdout",
     "output_type": "stream",
     "text": [
      "RAW:\n",
      "0.33   will\n",
      "0.13   has\n",
      "0.11   was\n",
      "0.10   had\n",
      "0.08   is\n",
      "-----------\n"
     ]
    }
   ],
   "source": [
    "import torch.nn.functional as F\n",
    "def visualize_logits(logits, raw_indicies, name, tokenizer, idx=0, topk=10):\n",
    "    # assume logits in batch\n",
    "    tmp_logit = logits[idx]\n",
    "\n",
    "    values, indices = torch.topk(tmp_logit, k=topk, dim=-1)  # batch x pretopk\n",
    "    post_probs = F.softmax(values, dim=-1)\n",
    "    post_probs_list = post_probs.tolist()\n",
    "    tmp_raw = raw_indicies[idx]\n",
    "    out = []\n",
    "    for i in range(5):\n",
    "        out.append(str(post_probs_list[i])[:4] + \"  \"+ tokenizer.decode(tmp_raw[indices[i]]) )\n",
    "        # out.append( tokenizer.decode(tmp_raw[indices[i]]) )\n",
    "    print(name + \":\\n\" + \"\\n\".join(out) + \"\\n-----------\")\n",
    "\n",
    "\n",
    "batch_size = 1\n",
    "top_logits, indices = torch.topk(logits, k=200, dim=-1)  # batch x pretopk\n",
    "post_logits, post_indices = top_logits.topk(5, dim=1)\n",
    "post_probs = torch.nn.functional.softmax(post_logits, dim=1)\n",
    "index_into_top_indices = post_indices[\n",
    "            torch.arange(batch_size).to(post_indices.device), :5\n",
    "        ]  # batch, k_best\n",
    "for b in range(batch_size):\n",
    "    next_indices = indices[b][index_into_top_indices[b]].cpu().tolist() # k best options\n",
    "    visualize_logits(top_logits, indices,\"RAW\", tokenizer,b,10)"
   ]
  },
  {
   "cell_type": "code",
   "execution_count": null,
   "metadata": {},
   "outputs": [],
   "source": [
    "from transformers import pipeline, set_seed\n",
    "\n",
    "set_seed(32)\n",
    "generator = pipeline('text-generation', model=\"facebook/opt-1.3b\", do_sample=True)\n",
    "generator(\"Hello, I'm am conscious and\")\n"
   ]
  },
  {
   "cell_type": "code",
   "execution_count": null,
   "metadata": {},
   "outputs": [],
   "source": [
    "from transformers import AutoTokenizer, AutoModelForCausalLM\n",
    "\n",
    "tokenizer = AutoTokenizer.from_pretrained(\"gpt2\")\n",
    "\n",
    "model = AutoModelForCausalLM.from_pretrained(\"gpt2\")"
   ]
  },
  {
   "cell_type": "code",
   "execution_count": null,
   "metadata": {},
   "outputs": [],
   "source": [
    "\n",
    "tokenizer = AutoTokenizer.from_pretrained(\"gpt2\")\n",
    "model = AutoModelForCausalLM.from_pretrained(\"gpt2\")\n"
   ]
  },
  {
   "cell_type": "code",
   "execution_count": null,
   "metadata": {},
   "outputs": [],
   "source": [
    "\n",
    "input_ids = tokenizer(\"name[The Eagle], eatType[coffee shop], food[Japanese], priceRange[less than £20]\", return_tensors=\"pt\")['input_ids']\n",
    "outputs = model.generate(input_ids, do_sample=False, max_length=100)\n",
    "print(tokenizer.batch_decode(outputs, skip_special_tokens=True))\n",
    "\n",
    "\n",
    "print(outputs)"
   ]
  },
  {
   "cell_type": "code",
   "execution_count": null,
   "metadata": {},
   "outputs": [],
   "source": [
    "from transformers import T5ForConditionalGeneration\n",
    "\n",
    "model = T5ForConditionalGeneration.from_pretrained(\"google/t5-v1_1-base\")"
   ]
  },
  {
   "cell_type": "code",
   "execution_count": null,
   "metadata": {},
   "outputs": [],
   "source": [
    "from transformers import T5Tokenizer, T5ForConditionalGeneration\n",
    "\n",
    "tokenizer = T5Tokenizer.from_pretrained(\"t5-small\")\n",
    "model = T5ForConditionalGeneration.from_pretrained(\"t5-small\")\n"
   ]
  },
  {
   "cell_type": "code",
   "execution_count": null,
   "metadata": {},
   "outputs": [],
   "source": [
    "\n",
    "# inference\n",
    "input_ids = tokenizer(\n",
    "    \"summarize: name[The Eagle], eatType[coffee shop], food[Japanese], priceRange[less than £20]\", return_tensors=\"pt\"\n",
    ").input_ids  # Batch size 1\n",
    "outputs = model.generate(input_ids)\n",
    "print(tokenizer.decode(outputs[0], skip_special_tokens=True))\n",
    "# studies have shown that owning a dog is good for you."
   ]
  },
  {
   "cell_type": "code",
   "execution_count": 6,
   "metadata": {},
   "outputs": [
    {
     "name": "stdout",
     "output_type": "stream",
     "text": [
      "/export/home/cond-text-gen/dec\n"
     ]
    },
    {
     "ename": "ModuleNotFoundError",
     "evalue": "No module named 'dec'",
     "output_type": "error",
     "traceback": [
      "\u001b[0;31m---------------------------------------------------------------------------\u001b[0m",
      "\u001b[0;31mModuleNotFoundError\u001b[0m                       Traceback (most recent call last)",
      "\u001b[1;32m/export/home/cond-text-gen/dec/play_data.ipynb Cell 10\u001b[0m in \u001b[0;36m<cell line: 4>\u001b[0;34m()\u001b[0m\n\u001b[1;32m      <a href='vscode-notebook-cell://ssh-remote%2Blocalhost/export/home/cond-text-gen/dec/play_data.ipynb#X12sdnNjb2RlLXJlbW90ZQ%3D%3D?line=2'>3</a>\u001b[0m \u001b[39mprint\u001b[39m(os\u001b[39m.\u001b[39mgetcwd())\n\u001b[1;32m      <a href='vscode-notebook-cell://ssh-remote%2Blocalhost/export/home/cond-text-gen/dec/play_data.ipynb#X12sdnNjb2RlLXJlbW90ZQ%3D%3D?line=3'>4</a>\u001b[0m \u001b[39mwith\u001b[39;00m \u001b[39mopen\u001b[39m(\u001b[39m'\u001b[39m\u001b[39m../vizs/bs_1.05_10_5_40375560.pkl\u001b[39m\u001b[39m'\u001b[39m,\u001b[39m'\u001b[39m\u001b[39mrb\u001b[39m\u001b[39m'\u001b[39m) \u001b[39mas\u001b[39;00m fd:\n\u001b[0;32m----> <a href='vscode-notebook-cell://ssh-remote%2Blocalhost/export/home/cond-text-gen/dec/play_data.ipynb#X12sdnNjb2RlLXJlbW90ZQ%3D%3D?line=4'>5</a>\u001b[0m     output_dict \u001b[39m=\u001b[39m pickle\u001b[39m.\u001b[39;49mload(fd)\n\u001b[1;32m      <a href='vscode-notebook-cell://ssh-remote%2Blocalhost/export/home/cond-text-gen/dec/play_data.ipynb#X12sdnNjb2RlLXJlbW90ZQ%3D%3D?line=5'>6</a>\u001b[0m \u001b[39mprint\u001b[39m(output_dict)\n",
      "\u001b[0;31mModuleNotFoundError\u001b[0m: No module named 'dec'"
     ]
    }
   ],
   "source": [
    "import os\n",
    "import pickle\n",
    "print(os.getcwd())\n",
    "with open('../vizs/bs_1.05_10_5_40375560.pkl','rb') as fd:\n",
    "    output_dict = pickle.load(fd)\n",
    "print(output_dict)\n"
   ]
  },
  {
   "cell_type": "code",
   "execution_count": null,
   "metadata": {},
   "outputs": [],
   "source": []
  }
 ],
 "metadata": {
  "kernelspec": {
   "display_name": "Python 3.7.10 ('base')",
   "language": "python",
   "name": "python3"
  },
  "language_info": {
   "codemirror_mode": {
    "name": "ipython",
    "version": 3
   },
   "file_extension": ".py",
   "mimetype": "text/x-python",
   "name": "python",
   "nbconvert_exporter": "python",
   "pygments_lexer": "ipython3",
   "version": "3.7.10"
  },
  "orig_nbformat": 4,
  "vscode": {
   "interpreter": {
    "hash": "d4d1e4263499bec80672ea0156c357c1ee493ec2b1c70f0acce89fc37c4a6abe"
   }
  }
 },
 "nbformat": 4,
 "nbformat_minor": 2
}
