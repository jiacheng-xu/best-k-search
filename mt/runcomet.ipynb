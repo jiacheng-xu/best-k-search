{
 "cells": [
  {
   "cell_type": "code",
   "execution_count": 21,
   "metadata": {},
   "outputs": [
    {
     "name": "stderr",
     "output_type": "stream",
     "text": [
      "Downloading wmt21-comet-qe-da.tar.gz\n",
      "wmt21-comet-qe-da.tar.gz:  34%|███▍      | 584M/1.72G [00:21<00:42, 27.1MB/s]\n",
      "Predicting DataLoader 0:   0%|          | 0/1 [3:02:33<?, ?it/s]"
     ]
    }
   ],
   "source": [
    "from comet import download_model, load_from_checkpoint\n",
    "\n",
    "model_path = download_model(\"wmt21-comet-qe-da\")\n",
    "model = load_from_checkpoint(model_path)"
   ]
  },
  {
   "cell_type": "code",
   "execution_count": 14,
   "metadata": {},
   "outputs": [
    {
     "name": "stdout",
     "output_type": "stream",
     "text": [
      "{'ref': ['Das hat der Hollywood-Star in einem Interview jetzt unmissverständlich klar gemacht.'], 'input': 'That is what the Hollywood star has made abundantly clear in an interview.', 'uid': 0, 'output': ['Und genau das hat der Hollywood-Star im Interview deutlich gemacht.', 'Und genau das hat der Hollywoodstar in einem Interview deutlich gemacht.', 'Und das hat der Hollywoodstar in einem Interview deutlich gemacht.', 'So hat der Hollywood-Star in einem Interview ausführlich deutlich gemacht.', 'So hat der Hollywood-Star in einem Interview deutlich gemacht.', 'Genau das hat der Hollywood-Star in einem Interview deutlich gemacht.', 'Das hat der Hollywood-Star in einem Interview deutlich gemacht.', 'Dies hat der Hollywood-Star im Interview deutlich gemacht.', 'Und genau das hat der Hollywoodstar im Interview deutlich gemacht.']}\n"
     ]
    }
   ],
   "source": [
    "import json\n",
    "import os\n",
    "with open('/export/home/cond-text-gen/outputs/opus_bfs_-1_5_5_False_0.0_0.0_5_1.0_1.0_1_output.json','r') as fd:\n",
    "    data = json.load(fd)\n",
    "print(data[0])\n"
   ]
  },
  {
   "cell_type": "code",
   "execution_count": 18,
   "metadata": {},
   "outputs": [
    {
     "name": "stderr",
     "output_type": "stream",
     "text": [
      "/root/miniconda3/lib/python3.8/site-packages/pytorch_lightning/trainer/connectors/callback_connector.py:96: LightningDeprecationWarning: Setting `Trainer(progress_bar_refresh_rate=0)` is deprecated in v1.5 and will be removed in v1.7. Please pass `pytorch_lightning.callbacks.progress.TQDMProgressBar` with `refresh_rate` directly to the Trainer's `callbacks` argument instead. Or, to disable the progress bar pass `enable_progress_bar = False` to the Trainer.\n",
      "  rank_zero_deprecation(\n",
      "GPU available: True, used: False\n",
      "TPU available: False, using: 0 TPU cores\n",
      "IPU available: False, using: 0 IPUs\n",
      "HPU available: False, using: 0 HPUs\n",
      "/root/miniconda3/lib/python3.8/site-packages/pytorch_lightning/trainer/trainer.py:1814: PossibleUserWarning: GPU available but not used. Set `accelerator` and `devices` using `Trainer(accelerator='gpu', devices=8)`.\n",
      "  rank_zero_warn(\n"
     ]
    },
    {
     "name": "stdout",
     "output_type": "stream",
     "text": [
      "REF: 0.14903849363327026\n",
      "[0.14904716610908508, 0.15392330288887024, 0.1537102311849594, 0.14234232902526855, 0.14837831258773804, 0.14989137649536133, 0.15360324084758759, 0.1508725881576538, 0.15033280849456787]\n"
     ]
    }
   ],
   "source": [
    "import statistics\n",
    "for d in data:\n",
    "    ref = d['ref']\n",
    "    assert len(ref) == 1\n",
    "    outputs = d['output']\n",
    "    src = d['input']\n",
    "    inputs_for_comet = ref + outputs\n",
    "    feed = []\n",
    "    for x in inputs_for_comet:\n",
    "        feed.append(\n",
    "            {\n",
    "                'src': src,\n",
    "                'mt':x\n",
    "            }\n",
    "        )\n",
    "    seg_scores, sys_score = model.predict(feed, batch_size=1, gpus=0,progress_bar=False)\n",
    "    ref_score = seg_scores[0]\n",
    "    pred_scores = seg_scores[1:]\n",
    "    print(f\"REF: {ref_score}\")\n",
    "    print(pred_scores)\n",
    "    break\n",
    "\n"
   ]
  },
  {
   "cell_type": "code",
   "execution_count": 20,
   "metadata": {},
   "outputs": [
    {
     "name": "stderr",
     "output_type": "stream",
     "text": [
      "/root/miniconda3/lib/python3.8/site-packages/pytorch_lightning/trainer/connectors/callback_connector.py:96: LightningDeprecationWarning: Setting `Trainer(progress_bar_refresh_rate=0)` is deprecated in v1.5 and will be removed in v1.7. Please pass `pytorch_lightning.callbacks.progress.TQDMProgressBar` with `refresh_rate` directly to the Trainer's `callbacks` argument instead. Or, to disable the progress bar pass `enable_progress_bar = False` to the Trainer.\n",
      "  rank_zero_deprecation(\n",
      "GPU available: True, used: False\n",
      "TPU available: False, using: 0 TPU cores\n",
      "IPU available: False, using: 0 IPUs\n",
      "HPU available: False, using: 0 HPUs\n",
      "/root/miniconda3/lib/python3.8/site-packages/pytorch_lightning/trainer/trainer.py:1814: PossibleUserWarning: GPU available but not used. Set `accelerator` and `devices` using `Trainer(accelerator='gpu', devices=8)`.\n",
      "  rank_zero_warn(\n"
     ]
    },
    {
     "name": "stdout",
     "output_type": "stream",
     "text": [
      "[0.15788614749908447, 0.11913292855024338, 0.1456047147512436, 0.10244011878967285]\n"
     ]
    }
   ],
   "source": [
    "feed = [\n",
    "    {'src':\"今天是一个星期日，天气晴朗。\", 'mt':\"Today is Sunday, and the weather is nice.\"},\n",
    "    {'src':\"今天是一个星期日，天气晴朗。\", 'mt':\"Today is Sunday, and the weather is crappy and nice .\"},\n",
    "    {'src':\"今天是一个星期日，天气晴朗。\", 'mt':\"Today is Monday but not Tuesday, and the weather is crappy.\"},\n",
    "    {'src':\"今天是一个星期日，天气晴朗。\", 'mt':\"Today is Sunday, and the weather is isisis is.\"},\n",
    "]\n",
    "seg_scores, sys_score = model.predict(feed, batch_size=1, gpus=0,progress_bar=False)\n",
    "print(seg_scores)"
   ]
  },
  {
   "cell_type": "code",
   "execution_count": null,
   "metadata": {},
   "outputs": [],
   "source": []
  }
 ],
 "metadata": {
  "kernelspec": {
   "display_name": "Python 3.8.13",
   "language": "python",
   "name": "python3"
  },
  "language_info": {
   "codemirror_mode": {
    "name": "ipython",
    "version": 3
   },
   "file_extension": ".py",
   "mimetype": "text/x-python",
   "name": "python",
   "nbconvert_exporter": "python",
   "pygments_lexer": "ipython3",
   "version": "3.8.13"
  },
  "orig_nbformat": 4,
  "vscode": {
   "interpreter": {
    "hash": "2f394aca7ca06fed1e6064aef884364492d7cdda3614a461e02e6407fc40ba69"
   }
  }
 },
 "nbformat": 4,
 "nbformat_minor": 2
}
