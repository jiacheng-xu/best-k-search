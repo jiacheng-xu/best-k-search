{
 "cells": [
  {
   "cell_type": "code",
   "execution_count": 1,
   "metadata": {},
   "outputs": [],
   "source": [
    "from transformers import AutoTokenizer, AutoModelForSeq2SeqLM\n",
    "\n",
    "model_name = \"Salesforce/mixqg-3b\"\n",
    "tokenizer = AutoTokenizer.from_pretrained(model_name)\n",
    "model = AutoModelForSeq2SeqLM.from_pretrained(model_name)\n",
    "\n",
    "def run_qg(input_text, **generator_args):\n",
    "    input_ids = tokenizer.encode(input_text, return_tensors=\"pt\")\n",
    "    generated_ids = model.generate(input_ids, **generator_args)\n",
    "    \n",
    "    print(generated_ids)\n",
    "    return tokenizer.batch_decode(generated_ids, skip_special_tokens=True)\n"
   ]
  },
  {
   "cell_type": "code",
   "execution_count": 2,
   "metadata": {},
   "outputs": [
    {
     "name": "stdout",
     "output_type": "stream",
     "text": [
      "['Who proved that air is necessary for combustion?']\n"
     ]
    }
   ],
   "source": [
    "\n",
    "print(run_qg(\"Robert Boyle \\\\n In the late 17th century, Robert Boyle proved that air is necessary for combustion.\"))\n"
   ]
  },
  {
   "cell_type": "code",
   "execution_count": 5,
   "metadata": {},
   "outputs": [
    {
     "name": "stdout",
     "output_type": "stream",
     "text": [
      "[363, 19, 8, 336, 564, 13, 8, 568, 113, 2832, 112, 2472, 138, 13955, 3, 390, 30, 112, 585, 44, 472, 5, 12249, 7, 58, 1]\n"
     ]
    },
    {
     "data": {
      "text/plain": [
       "['▁What',\n",
       " '▁is',\n",
       " '▁the',\n",
       " '▁last',\n",
       " '▁name',\n",
       " '▁of',\n",
       " '▁the',\n",
       " '▁person',\n",
       " '▁who',\n",
       " '▁wrote',\n",
       " '▁his',\n",
       " '▁doctor',\n",
       " 'al',\n",
       " '▁dissertation',\n",
       " '▁',\n",
       " 'based',\n",
       " '▁on',\n",
       " '▁his',\n",
       " '▁research',\n",
       " '▁at',\n",
       " '▁St',\n",
       " '.',\n",
       " '▁Helen',\n",
       " 's',\n",
       " '?',\n",
       " '</s>']"
      ]
     },
     "execution_count": 5,
     "metadata": {},
     "output_type": "execute_result"
    }
   ],
   "source": [
    "text = \"What is the last name of the person who wrote his doctoral dissertation based on his research at St. Helens?\"\n",
    "dec = tokenizer.encode(text)\n",
    "print(dec)\n",
    "[tokenizer._convert_id_to_token(x) for x in dec]\n"
   ]
  },
  {
   "cell_type": "code",
   "execution_count": null,
   "metadata": {},
   "outputs": [],
   "source": []
  }
 ],
 "metadata": {
  "kernelspec": {
   "display_name": "Python 3.9.12 64-bit ('anaconda3')",
   "language": "python",
   "name": "python3"
  },
  "language_info": {
   "codemirror_mode": {
    "name": "ipython",
    "version": 3
   },
   "file_extension": ".py",
   "mimetype": "text/x-python",
   "name": "python",
   "nbconvert_exporter": "python",
   "pygments_lexer": "ipython3",
   "version": "3.9.12"
  },
  "orig_nbformat": 4,
  "vscode": {
   "interpreter": {
    "hash": "67c54bf5fb630355f694c741165b3bdb09e3b950d114a736855d00c72ee312e0"
   }
  }
 },
 "nbformat": 4,
 "nbformat_minor": 2
}
